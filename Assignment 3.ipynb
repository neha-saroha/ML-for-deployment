{
 "cells": [
  {
   "cell_type": "markdown",
   "metadata": {},
   "source": [
    "### Task 1"
   ]
  },
  {
   "cell_type": "markdown",
   "metadata": {},
   "source": [
    "### Write a function to compute 5/0 and use try/except to catch the exceptions."
   ]
  },
  {
   "cell_type": "code",
   "execution_count": 2,
   "metadata": {},
   "outputs": [
    {
     "name": "stdout",
     "output_type": "stream",
     "text": [
      "The result of dividing 7 by 5 is : \n",
      "1.4\n",
      "The result of dividing 5 by 0 is : \n",
      "Sorry ! Division by zero is not allowed. \n"
     ]
    }
   ],
   "source": [
    "def divide(x, y):\n",
    "    try:\n",
    "        result = x / y\n",
    "        print(result)\n",
    "    except ZeroDivisionError:\n",
    "        print(\"Sorry ! Division by zero is not allowed. \")\n",
    "        \n",
    "print(\"The result of dividing 7 by 5 is : \")\n",
    "divide(7,5)\n",
    "print(\"The result of dividing 5 by 0 is : \")\n",
    "divide(5,0)"
   ]
  },
  {
   "cell_type": "markdown",
   "metadata": {},
   "source": [
    "### Implement a Python program to generate all sentences where subject is in [\"Americans\",\"Indians\"] and verb is in [\"Play\", \"watch\"] and the object is in [\"Baseball\",\"cricket\"]."
   ]
  },
  {
   "cell_type": "code",
   "execution_count": 11,
   "metadata": {},
   "outputs": [
    {
     "name": "stdout",
     "output_type": "stream",
     "text": [
      "Americans  play Baseball.\n",
      "Americans  play Cricket.\n",
      "Americans  watch Baseball.\n",
      "Americans  watch Cricket.\n",
      "Indians play Baseball.\n",
      "Indians play Cricket.\n",
      "Indians watch Baseball.\n",
      "Indians watch Cricket.\n"
     ]
    }
   ],
   "source": [
    "subjects=[\"Americans \",\"Indians\"]\n",
    "verbs=[\"play\",\"watch\"]\n",
    "objects=[\"Baseball\",\"Cricket\"]\n",
    "\n",
    "result_list = [(subject+\" \"+verb+\" \"+obj+\".\") for subject in subjects for verb in verbs for obj in objects]\n",
    "for item in result_list : \n",
    "    print(item)"
   ]
  },
  {
   "cell_type": "markdown",
   "metadata": {},
   "source": [
    "### Task 2"
   ]
  },
  {
   "cell_type": "markdown",
   "metadata": {},
   "source": [
    "### Write a function so that the columns of the output matrix are powers of the input vector. The order of the powers is determined by the increasing boolean argument. Specifically, when increasing is False, the i-th output column is the input vector raised element-wise to the power of N - i - 1."
   ]
  },
  {
   "cell_type": "code",
   "execution_count": 25,
   "metadata": {},
   "outputs": [
    {
     "name": "stdout",
     "output_type": "stream",
     "text": [
      "The Vandermonde matrix(with increasing=False), generated for given vector is :\n",
      "[[  2744    196     14      1]\n",
      " [300763   4489     67      1]\n",
      " [ 39304   1156     34      1]\n",
      " [729000   8100     90      1]]\n",
      "The Vandermonde matrix(with increasing=True), generated for given vector is :\n",
      "[[     1     14    196   2744]\n",
      " [     1     67   4489 300763]\n",
      " [     1     34   1156  39304]\n",
      " [     1     90   8100 729000]]\n"
     ]
    }
   ],
   "source": [
    "import numpy as np\n",
    "x = np.array([14,67,34,90]) #input vector\n",
    "N = 4 \n",
    "print(\"The Vandermonde matrix(with increasing=False), generated for given vector is :\")\n",
    "print(np.column_stack([x**(N-1-i) for i in range(N)]))\n",
    "print(\"The Vandermonde matrix(with increasing=True), generated for given vector is :\")\n",
    "print(np.vander(x, increasing=True))"
   ]
  },
  {
   "cell_type": "code",
   "execution_count": null,
   "metadata": {},
   "outputs": [],
   "source": []
  }
 ],
 "metadata": {
  "kernelspec": {
   "display_name": "Python 3",
   "language": "python",
   "name": "python3"
  },
  "language_info": {
   "codemirror_mode": {
    "name": "ipython",
    "version": 3
   },
   "file_extension": ".py",
   "mimetype": "text/x-python",
   "name": "python",
   "nbconvert_exporter": "python",
   "pygments_lexer": "ipython3",
   "version": "3.6.8"
  }
 },
 "nbformat": 4,
 "nbformat_minor": 2
}
