{
 "cells": [
  {
   "cell_type": "markdown",
   "metadata": {},
   "source": [
    "### Task 1"
   ]
  },
  {
   "cell_type": "markdown",
   "metadata": {},
   "source": [
    "### Write a Python Program to implement your own myreduce() function which works exactly like Python's built-in function reduce() "
   ]
  },
  {
   "cell_type": "code",
   "execution_count": 4,
   "metadata": {},
   "outputs": [
    {
     "name": "stdout",
     "output_type": "stream",
     "text": [
      "The result of implementing the myreduce function on the input list : \n",
      "295\n"
     ]
    }
   ],
   "source": [
    "# simple sum function that will be passed to myreduce() function for execution\n",
    "def sum(x,y):\n",
    "    return x+y\n",
    "\n",
    "# myreduce function body\n",
    "def myreduce(function, inp_list):\n",
    "    list_iter = iter(inp_list)  #creating an iterator on the input list\n",
    "    accum_value = next(list_iter) #assign first value in the list to accumulater variable to begin with\n",
    "    \n",
    "    #Iterate over the list and call the function-sum, with each item and accumulater value and store the result in accumulater variable\n",
    "    #This way the return value from the function keeps getting accumulated for every item in the list and its finally reduced to a single value\n",
    "    for item in list_iter:       \n",
    "        accum_value = function(accum_value, item) \n",
    "    return accum_value\n",
    "\n",
    "inp_list = [12,25,34,56,78,90]    \n",
    "print(\"The result of implementing the myreduce function on the input list : \")\n",
    "print(myreduce(sum,inp_list))     "
   ]
  },
  {
   "cell_type": "markdown",
   "metadata": {},
   "source": [
    "### Write a Python program to implement your own myfilter() function which works exactly like Python's built-in function filter() "
   ]
  },
  {
   "cell_type": "code",
   "execution_count": 5,
   "metadata": {},
   "outputs": [
    {
     "name": "stdout",
     "output_type": "stream",
     "text": [
      "The result after calling myfilter() on the input list : \n",
      "[12, 34, 56, 78, 568, 4042]\n"
     ]
    }
   ],
   "source": [
    "# simple function which returns a boolean after checking if input is even or not\n",
    "#this function will be passed to myfilter() function for filtering results\n",
    "def is_even(num):\n",
    "    if num%2 ==0:\n",
    "        return True\n",
    "    \n",
    "def myfilter(function, inp_list):\n",
    "    # myfilter will only return those items in the list for which the function-is_even , returns True  \n",
    "    return [x for x in inp_list if function(x)]\n",
    "\n",
    "inp_list = [12,25,34,56,78,91,183,568,4042] \n",
    "print(\"The result after calling myfilter() on the input list : \")\n",
    "print(myfilter(is_even,inp_list))       "
   ]
  },
  {
   "cell_type": "markdown",
   "metadata": {},
   "source": [
    "### Write List comprehensions to produce the following Lists \n",
    " \n",
    "['A', 'C', 'A', 'D', 'G', 'I', ’L’, ‘ D’] \n",
    " \n",
    "['x', 'xx', 'xxx', 'xxxx', 'y', 'yy', 'yyy', 'yyyy', 'z', 'zz', 'zzz', 'zzzz'] \n",
    " \n",
    "['x', 'y', 'z', 'xx', 'yy', 'zz', 'xx', 'yy', 'zz', 'xxxx', 'yyyy', 'zzzz'] \n",
    " \n",
    "[[2], [3], [4], [3], [4], [5], [4], [5], [6]] \n",
    " \n",
    "[[2, 3, 4, 5], [3, 4, 5, 6], [4, 5, 6, 7], [5, 6, 7, 8]] \n",
    " \n",
    "[(1, 1), (2, 1), (3, 1), (1, 2), (2, 2), (3, 2), (1, 3), (2, 3), (3, 3)] "
   ]
  },
  {
   "cell_type": "code",
   "execution_count": 4,
   "metadata": {},
   "outputs": [
    {
     "name": "stdout",
     "output_type": "stream",
     "text": [
      "['A', 'C', 'A', 'D', 'G', 'I', 'L', 'D']\n"
     ]
    }
   ],
   "source": [
    "print([x for x in 'ACADGILD'])"
   ]
  },
  {
   "cell_type": "code",
   "execution_count": 46,
   "metadata": {},
   "outputs": [
    {
     "name": "stdout",
     "output_type": "stream",
     "text": [
      "['x', 'xx', 'xxx', 'xxxx', 'y', 'yy', 'yyy', 'yyyy', 'z', 'zz', 'zzz', 'zzzz']\n"
     ]
    }
   ],
   "source": [
    "print([i*j for j in 'xyz' for i in range(1,5)]) #here i*j, helps to create a string with character j, concatenated i number of times"
   ]
  },
  {
   "cell_type": "code",
   "execution_count": 47,
   "metadata": {},
   "outputs": [
    {
     "name": "stdout",
     "output_type": "stream",
     "text": [
      "['x', 'y', 'z', 'xx', 'yy', 'zz', 'xxx', 'yyy', 'zzz', 'xxxx', 'yyyy', 'zzzz']\n"
     ]
    }
   ],
   "source": [
    "print([i*j for j in range(1,5) for i in 'xyz']) #here i*j, helps to create a string with character i, concatenated j number of times"
   ]
  },
  {
   "cell_type": "code",
   "execution_count": 55,
   "metadata": {},
   "outputs": [
    {
     "name": "stdout",
     "output_type": "stream",
     "text": [
      "[[2], [3], [4], [3], [4], [5], [4], [5], [6]]\n"
     ]
    }
   ],
   "source": [
    "print([[i+j] for j in range(3) for i in range(2,5)])"
   ]
  },
  {
   "cell_type": "code",
   "execution_count": 58,
   "metadata": {},
   "outputs": [
    {
     "name": "stdout",
     "output_type": "stream",
     "text": [
      "[[2, 3, 4, 5], [3, 4, 5, 6], [4, 5, 6, 7], [5, 6, 7, 8]]\n"
     ]
    }
   ],
   "source": [
    "print([[i+j for j in range(4)] for i in range(2,6)])"
   ]
  },
  {
   "cell_type": "code",
   "execution_count": 67,
   "metadata": {},
   "outputs": [
    {
     "name": "stdout",
     "output_type": "stream",
     "text": [
      "[(1, 1), (2, 1), (3, 1), (1, 2), (2, 2), (3, 2), (1, 3), (2, 3), (3, 3)]\n"
     ]
    }
   ],
   "source": [
    "print([(i,j) for j in [1,2,3] for i in [1,2,3]])"
   ]
  },
  {
   "cell_type": "markdown",
   "metadata": {},
   "source": [
    "### Implement a function longestWord() that takes a list of words and returns the longest one"
   ]
  },
  {
   "cell_type": "code",
   "execution_count": 7,
   "metadata": {},
   "outputs": [
    {
     "name": "stdout",
     "output_type": "stream",
     "text": [
      "Enter the number of elements in list:3\n",
      "Enter the word :apple\n",
      "Enter the word :cantaloup\n",
      "Enter the word :grapes\n",
      "The word with the longest length is:\n",
      "cantaloup\n"
     ]
    }
   ],
   "source": [
    "def longestWord(input_list):\n",
    "    # using the max function here, which takes the input list and a function as arguments, this function is used to customize the sort order\n",
    "    return max(input_list, key = len) \n",
    "\n",
    "input_list=[]\n",
    "# get the input list of words\n",
    "input_length= int(input(\"Enter the number of elements in list:\"))\n",
    "for item in range(input_length):\n",
    "    word=input(\"Enter the word :\")\n",
    "    input_list.append(word)\n",
    "\n",
    "print(\"The word with the longest length is:\")\n",
    "print(longestWord(input_list))"
   ]
  },
  {
   "cell_type": "markdown",
   "metadata": {},
   "source": [
    "### Task 2"
   ]
  },
  {
   "cell_type": "markdown",
   "metadata": {},
   "source": [
    "### Write a Python Program(with class concepts) to find the area of the triangle using the below formula.\n",
    "area = (s*(s-a)*(s-b)*(s-c)) ** 0.5\n",
    "\n",
    "Function to take the length of the sides of triangle from user should be defined in the parent\n",
    "class and function to calculate the area should be defined in subclass."
   ]
  },
  {
   "cell_type": "code",
   "execution_count": 9,
   "metadata": {},
   "outputs": [
    {
     "name": "stdout",
     "output_type": "stream",
     "text": [
      "Enter first side: 3.45\n",
      "Enter second side: 5.67\n",
      "Enter third side: 6.78\n",
      "Area of this triangle is : \n",
      "9.769001484286925\n"
     ]
    }
   ],
   "source": [
    "# Parent class with just data members, i.e. side parameters\n",
    "class Triangle:\n",
    "    def __init__(self, side_a, side_b, side_c):\n",
    "        self.side_a = side_a\n",
    "        self.side_b = side_b\n",
    "        self.side_c = side_c\n",
    "# Child class(using parent class data members) implements a function to calculate area of the triangle\n",
    "class TriangleCalculations(Triangle):\n",
    "    def calculate_area(self):\n",
    "        # formula for area : (s(s-a)(s-b)(s-c)) ** 0.5, where a,b,c are side measurements and s = (a+b+c)/2\n",
    "        semi_perimeter = (self.side_a + self.side_b + self.side_c)/2\n",
    "        print(\"Area of this triangle is : \")\n",
    "        print((semi_perimeter*(semi_perimeter-self.side_a)*(semi_perimeter-self.side_b)*(semi_perimeter-self.side_c)) ** 0.5)\n",
    "        \n",
    "side_1 = float(input('Enter first side: '))  \n",
    "side_2 = float(input('Enter second side: '))  \n",
    "side_3 = float(input('Enter third side: ')) \n",
    "# creating a Triangle class object here by initializing the TriangleCalculations class with side measurements, as we need to call the calculate_area function which is defined on the child class\n",
    "triangle_obj = TriangleCalculations(side_1, side_2, side_3)\n",
    "triangle_obj.calculate_area()"
   ]
  },
  {
   "cell_type": "markdown",
   "metadata": {},
   "source": [
    "### Write a function filter_long_words() that takes a list of words and an integer n and returns the list of words that are longer than n."
   ]
  },
  {
   "cell_type": "code",
   "execution_count": 84,
   "metadata": {},
   "outputs": [
    {
     "name": "stdout",
     "output_type": "stream",
     "text": [
      "Words which are longer than 5 characters : \n",
      "['banana', 'watermelon', 'muskmelon', 'cantaloup']\n"
     ]
    }
   ],
   "source": [
    "def filter_long_words(inp_list,n):       \n",
    "    return [x for x in inp_list if len(x)>n]\n",
    "\n",
    "inp_list = ['apple','banana','watermelon','muskmelon','cantaloup','guava']  \n",
    "print(\"Words which are longer than 5 characters : \")\n",
    "print(filter_long_words(inp_list,5)) "
   ]
  },
  {
   "cell_type": "markdown",
   "metadata": {},
   "source": [
    "### Write a Python program using function concept that maps list of words into a list of integers representing the lengths of the corresponding words."
   ]
  },
  {
   "cell_type": "code",
   "execution_count": 11,
   "metadata": {},
   "outputs": [
    {
     "name": "stdout",
     "output_type": "stream",
     "text": [
      "List of integers representing the lengths of the corresponding words : \n",
      "[5, 6, 10, 9, 9, 5]\n"
     ]
    }
   ],
   "source": [
    "def map_words_to_length(inp_list):\n",
    "    return list(map(len,inp_list))\n",
    "\n",
    "inp_list = ['apple','banana','watermelon','muskmelon','cantaloup','guava']\n",
    "print(\"List of integers representing the lengths of the corresponding words : \")\n",
    "print(map_words_to_length(inp_list))"
   ]
  },
  {
   "cell_type": "markdown",
   "metadata": {},
   "source": [
    "### Write a Python function which takes a character (i.e. a string of length 1) and returns True if it is a vowel, False otherwise."
   ]
  },
  {
   "cell_type": "code",
   "execution_count": 12,
   "metadata": {},
   "outputs": [
    {
     "name": "stdout",
     "output_type": "stream",
     "text": [
      "Enter a character : e\n",
      "Entered character is a vowel :  True\n"
     ]
    }
   ],
   "source": [
    "def is_vowel(character):\n",
    "    if character in 'aeiou':\n",
    "        return True\n",
    "    else:\n",
    "        return False\n",
    "    \n",
    "inp_char = input(\"Enter a character : \")\n",
    "print(\"Entered character is a vowel : \", is_vowel(inp_char))"
   ]
  },
  {
   "cell_type": "code",
   "execution_count": null,
   "metadata": {},
   "outputs": [],
   "source": []
  }
 ],
 "metadata": {
  "kernelspec": {
   "display_name": "Python 3",
   "language": "python",
   "name": "python3"
  },
  "language_info": {
   "codemirror_mode": {
    "name": "ipython",
    "version": 3
   },
   "file_extension": ".py",
   "mimetype": "text/x-python",
   "name": "python",
   "nbconvert_exporter": "python",
   "pygments_lexer": "ipython3",
   "version": "3.6.8"
  }
 },
 "nbformat": 4,
 "nbformat_minor": 2
}
